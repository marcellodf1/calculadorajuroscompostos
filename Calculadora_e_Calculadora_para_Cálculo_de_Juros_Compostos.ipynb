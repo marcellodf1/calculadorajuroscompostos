{
  "nbformat": 4,
  "nbformat_minor": 0,
  "metadata": {
    "colab": {
      "provenance": []
    },
    "kernelspec": {
      "name": "python3",
      "display_name": "Python 3"
    },
    "language_info": {
      "name": "python"
    }
  },
  "cells": [
    {
      "cell_type": "code",
      "execution_count": null,
      "metadata": {
        "colab": {
          "base_uri": "https://localhost:8080/"
        },
        "id": "r80l4jDs61Kt",
        "outputId": "3289127f-0f8d-4226-8ceb-cc38547e9257"
      },
      "outputs": [
        {
          "output_type": "stream",
          "name": "stdout",
          "text": [
            "\n",
            "========================================\n",
            "           ESCOLHA UMA OPÇÃO            \n",
            "========================================\n",
            "1 - Calculadora Simples\n",
            "2 - Calculadora de Juros Compostos\n",
            "3 - Sair\n",
            "Digite o número da opção desejada: 2\n",
            "\n",
            "--- Calculadora de Juros Compostos ---\n",
            "Valor inicial (R$): 2500\n",
            "Taxa de juros mensal (%): 2,5\n",
            "Período (meses): 25\n",
            "\n",
            "----------------------------------------\n",
            "• Montante Inicial: R$ 2.500,00\n",
            "• Taxa de juros mensal: 2.50%\n",
            "• Período: 25 meses\n",
            "----------------------------------------\n",
            "VALOR FINAL: R$ 4.634,86\n",
            "Total em juros: R$ 2.134,86\n"
          ]
        }
      ],
      "source": [
        "def calculadora_simples():\n",
        "    while True:\n",
        "        print(\"\\n--- Calculadora Simples ---\")\n",
        "        try:\n",
        "            num1 = float(input(\"Digite o primeiro número: \").replace(\",\", \".\"))\n",
        "            num2 = float(input(\"Digite o segundo número: \").replace(\",\", \".\"))\n",
        "        except ValueError:\n",
        "            print(\"Erro: Insira apenas números válidos!\")\n",
        "            continue\n",
        "\n",
        "        print(\"\\nEscolha a operação:\")\n",
        "        print(\"1 - Soma\")\n",
        "        print(\"2 - Subtração\")\n",
        "        print(\"3 - Multiplicação\")\n",
        "        print(\"4 - Divisão\")\n",
        "        operacao = input(\"Digite o número da operação desejada: \")\n",
        "\n",
        "        if operacao == \"1\":\n",
        "            resultado = num1 + num2\n",
        "            print(f\"Resultado da soma: {resultado}\")\n",
        "        elif operacao == \"2\":\n",
        "            resultado = num1 - num2\n",
        "            print(f\"Resultado da subtração: {resultado}\")\n",
        "        elif operacao == \"3\":\n",
        "            resultado = num1 * num2\n",
        "            print(f\"Resultado da multiplicação: {resultado}\")\n",
        "        elif operacao == \"4\":\n",
        "            if num2 == 0:\n",
        "                print(\"Não é possível dividir por zero.\")\n",
        "            else:\n",
        "                resultado = num1 / num2\n",
        "                print(f\"Resultado da divisão: {resultado}\")\n",
        "        else:\n",
        "            print(\"Operação inválida.\")\n",
        "\n",
        "        if input(\"Deseja realizar outra operação simples? (s/n): \").lower() != \"s\":\n",
        "            break\n",
        "\n",
        "def calculadora_juros_compostos():\n",
        "    while True:\n",
        "        print(\"\\n--- Calculadora de Juros Compostos ---\")\n",
        "        try:\n",
        "            principal = float(input(\"Valor inicial (R$): \").replace(\",\", \".\"))\n",
        "            taxa = float(input(\"Taxa de juros mensal (%): \").replace(\",\", \".\")) / 100\n",
        "            meses = int(input(\"Período (meses): \"))\n",
        "            if principal <= 0 or taxa <= 0 or meses <= 0:\n",
        "                print(\"Erro: Todos os valores devem ser positivos!\")\n",
        "                continue\n",
        "        except ValueError:\n",
        "            print(\"Erro: Insira valores numéricos válidos!\")\n",
        "            continue\n",
        "\n",
        "        montante = principal * (1 + taxa) ** meses\n",
        "        juros = montante - principal\n",
        "\n",
        "        print(\"\\n----------------------------------------\")\n",
        "        print(f\"• Montante Inicial: R$ {principal:,.2f}\".replace(\",\", \"v\").replace(\".\", \",\").replace(\"v\", \".\"))\n",
        "        print(f\"• Taxa de juros mensal: {taxa*100:.2f}%\")\n",
        "        print(f\"• Período: {meses} meses\")\n",
        "        print(\"----------------------------------------\")\n",
        "        print(f\"VALOR FINAL: R$ {montante:,.2f}\".replace(\",\", \"v\").replace(\".\", \",\").replace(\"v\", \".\"))\n",
        "        print(f\"Total em juros: R$ {juros:,.2f}\".replace(\",\", \"v\").replace(\".\", \",\").replace(\"v\", \".\"))\n",
        "\n",
        "        if input(\"Deseja realizar outro cálculo de juros compostos? (s/n): \").lower() != \"s\":\n",
        "            break\n",
        "\n",
        "# Aplicação principal\n",
        "while True:\n",
        "    print(\"\\n\" + \"=\"*40)\n",
        "    print(\"ESCOLHA UMA OPÇÃO\".center(40))\n",
        "    print(\"=\"*40)\n",
        "    print(\"1 - Calculadora Simples\")\n",
        "    print(\"2 - Calculadora de Juros Compostos\")\n",
        "    print(\"3 - Sair\")\n",
        "    escolha = input(\"Digite o número da opção desejada: \")\n",
        "\n",
        "    if escolha == \"1\":\n",
        "        calculadora_simples()\n",
        "    elif escolha == \"2\":\n",
        "        calculadora_juros_compostos()\n",
        "    elif escolha == \"3\":\n",
        "        print(\"Obrigado por usar a calculadora!\")\n",
        "        break\n",
        "    else:\n",
        "        print(\"Opção inválida. Tente novamente.\")\n"
      ]
    },
    {
      "cell_type": "code",
      "source": [],
      "metadata": {
        "id": "bCQu9ioh7hL6"
      },
      "execution_count": null,
      "outputs": []
    }
  ]
}